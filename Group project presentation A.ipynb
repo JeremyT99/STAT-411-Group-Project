{
 "cells": [
  {
   "cell_type": "markdown",
   "metadata": {},
   "source": [
    "# Group Project \n",
    "By Ashley Snell, Jeremy Taylor, Sydney Small\n",
    "\n",
    "We are looking at what models work best for our data when we use age and education as predictors for whether or not people are users of marijuana. Users are people who have used in the last month. \n",
    "\n",
    "Our question is a binary classification question. The importance is related to gaining insight into who and why people use marijuana. "
   ]
  },
  {
   "cell_type": "code",
   "execution_count": 1,
   "metadata": {},
   "outputs": [
    {
     "data": {
      "text/html": [
       "<div>\n",
       "<style scoped>\n",
       "    .dataframe tbody tr th:only-of-type {\n",
       "        vertical-align: middle;\n",
       "    }\n",
       "\n",
       "    .dataframe tbody tr th {\n",
       "        vertical-align: top;\n",
       "    }\n",
       "\n",
       "    .dataframe thead th {\n",
       "        text-align: right;\n",
       "    }\n",
       "</style>\n",
       "<table border=\"1\" class=\"dataframe\">\n",
       "  <thead>\n",
       "    <tr style=\"text-align: right;\">\n",
       "      <th></th>\n",
       "      <th>ID</th>\n",
       "      <th>Age</th>\n",
       "      <th>Gender</th>\n",
       "      <th>Education</th>\n",
       "      <th>Country</th>\n",
       "      <th>Ethnicity</th>\n",
       "      <th>Nscore</th>\n",
       "      <th>Escore</th>\n",
       "      <th>Oscore</th>\n",
       "      <th>Ascore</th>\n",
       "      <th>...</th>\n",
       "      <th>Ecstasy</th>\n",
       "      <th>Heroin</th>\n",
       "      <th>Ketamine</th>\n",
       "      <th>Legalh</th>\n",
       "      <th>LSD</th>\n",
       "      <th>Meth</th>\n",
       "      <th>Mushrooms</th>\n",
       "      <th>Nicotine</th>\n",
       "      <th>Semer</th>\n",
       "      <th>VSA</th>\n",
       "    </tr>\n",
       "  </thead>\n",
       "  <tbody>\n",
       "    <tr>\n",
       "      <th>0</th>\n",
       "      <td>1</td>\n",
       "      <td>0.49788</td>\n",
       "      <td>0.48246</td>\n",
       "      <td>-0.05921</td>\n",
       "      <td>0.96082</td>\n",
       "      <td>0.12600</td>\n",
       "      <td>0.31287</td>\n",
       "      <td>-0.57545</td>\n",
       "      <td>-0.58331</td>\n",
       "      <td>-0.91699</td>\n",
       "      <td>...</td>\n",
       "      <td>CL0</td>\n",
       "      <td>CL0</td>\n",
       "      <td>CL0</td>\n",
       "      <td>CL0</td>\n",
       "      <td>CL0</td>\n",
       "      <td>CL0</td>\n",
       "      <td>CL0</td>\n",
       "      <td>CL2</td>\n",
       "      <td>CL0</td>\n",
       "      <td>CL0</td>\n",
       "    </tr>\n",
       "    <tr>\n",
       "      <th>1</th>\n",
       "      <td>2</td>\n",
       "      <td>-0.07854</td>\n",
       "      <td>-0.48246</td>\n",
       "      <td>1.98437</td>\n",
       "      <td>0.96082</td>\n",
       "      <td>-0.31685</td>\n",
       "      <td>-0.67825</td>\n",
       "      <td>1.93886</td>\n",
       "      <td>1.43533</td>\n",
       "      <td>0.76096</td>\n",
       "      <td>...</td>\n",
       "      <td>CL4</td>\n",
       "      <td>CL0</td>\n",
       "      <td>CL2</td>\n",
       "      <td>CL0</td>\n",
       "      <td>CL2</td>\n",
       "      <td>CL3</td>\n",
       "      <td>CL0</td>\n",
       "      <td>CL4</td>\n",
       "      <td>CL0</td>\n",
       "      <td>CL0</td>\n",
       "    </tr>\n",
       "    <tr>\n",
       "      <th>2</th>\n",
       "      <td>3</td>\n",
       "      <td>0.49788</td>\n",
       "      <td>-0.48246</td>\n",
       "      <td>-0.05921</td>\n",
       "      <td>0.96082</td>\n",
       "      <td>-0.31685</td>\n",
       "      <td>-0.46725</td>\n",
       "      <td>0.80523</td>\n",
       "      <td>-0.84732</td>\n",
       "      <td>-1.62090</td>\n",
       "      <td>...</td>\n",
       "      <td>CL0</td>\n",
       "      <td>CL0</td>\n",
       "      <td>CL0</td>\n",
       "      <td>CL0</td>\n",
       "      <td>CL0</td>\n",
       "      <td>CL0</td>\n",
       "      <td>CL1</td>\n",
       "      <td>CL0</td>\n",
       "      <td>CL0</td>\n",
       "      <td>CL0</td>\n",
       "    </tr>\n",
       "    <tr>\n",
       "      <th>3</th>\n",
       "      <td>4</td>\n",
       "      <td>-0.95197</td>\n",
       "      <td>0.48246</td>\n",
       "      <td>1.16365</td>\n",
       "      <td>0.96082</td>\n",
       "      <td>-0.31685</td>\n",
       "      <td>-0.14882</td>\n",
       "      <td>-0.80615</td>\n",
       "      <td>-0.01928</td>\n",
       "      <td>0.59042</td>\n",
       "      <td>...</td>\n",
       "      <td>CL0</td>\n",
       "      <td>CL0</td>\n",
       "      <td>CL2</td>\n",
       "      <td>CL0</td>\n",
       "      <td>CL0</td>\n",
       "      <td>CL0</td>\n",
       "      <td>CL0</td>\n",
       "      <td>CL2</td>\n",
       "      <td>CL0</td>\n",
       "      <td>CL0</td>\n",
       "    </tr>\n",
       "    <tr>\n",
       "      <th>4</th>\n",
       "      <td>5</td>\n",
       "      <td>0.49788</td>\n",
       "      <td>0.48246</td>\n",
       "      <td>1.98437</td>\n",
       "      <td>0.96082</td>\n",
       "      <td>-0.31685</td>\n",
       "      <td>0.73545</td>\n",
       "      <td>-1.63340</td>\n",
       "      <td>-0.45174</td>\n",
       "      <td>-0.30172</td>\n",
       "      <td>...</td>\n",
       "      <td>CL1</td>\n",
       "      <td>CL0</td>\n",
       "      <td>CL0</td>\n",
       "      <td>CL1</td>\n",
       "      <td>CL0</td>\n",
       "      <td>CL0</td>\n",
       "      <td>CL2</td>\n",
       "      <td>CL2</td>\n",
       "      <td>CL0</td>\n",
       "      <td>CL0</td>\n",
       "    </tr>\n",
       "  </tbody>\n",
       "</table>\n",
       "<p>5 rows × 32 columns</p>\n",
       "</div>"
      ],
      "text/plain": [
       "   ID      Age   Gender  Education  Country  Ethnicity   Nscore   Escore  \\\n",
       "0   1  0.49788  0.48246   -0.05921  0.96082    0.12600  0.31287 -0.57545   \n",
       "1   2 -0.07854 -0.48246    1.98437  0.96082   -0.31685 -0.67825  1.93886   \n",
       "2   3  0.49788 -0.48246   -0.05921  0.96082   -0.31685 -0.46725  0.80523   \n",
       "3   4 -0.95197  0.48246    1.16365  0.96082   -0.31685 -0.14882 -0.80615   \n",
       "4   5  0.49788  0.48246    1.98437  0.96082   -0.31685  0.73545 -1.63340   \n",
       "\n",
       "    Oscore   Ascore  ...  Ecstasy  Heroin  Ketamine Legalh  LSD Meth  \\\n",
       "0 -0.58331 -0.91699  ...      CL0     CL0       CL0    CL0  CL0  CL0   \n",
       "1  1.43533  0.76096  ...      CL4     CL0       CL2    CL0  CL2  CL3   \n",
       "2 -0.84732 -1.62090  ...      CL0     CL0       CL0    CL0  CL0  CL0   \n",
       "3 -0.01928  0.59042  ...      CL0     CL0       CL2    CL0  CL0  CL0   \n",
       "4 -0.45174 -0.30172  ...      CL1     CL0       CL0    CL1  CL0  CL0   \n",
       "\n",
       "  Mushrooms Nicotine Semer  VSA  \n",
       "0       CL0      CL2   CL0  CL0  \n",
       "1       CL0      CL4   CL0  CL0  \n",
       "2       CL1      CL0   CL0  CL0  \n",
       "3       CL0      CL2   CL0  CL0  \n",
       "4       CL2      CL2   CL0  CL0  \n",
       "\n",
       "[5 rows x 32 columns]"
      ]
     },
     "execution_count": 1,
     "metadata": {},
     "output_type": "execute_result"
    }
   ],
   "source": [
    "import pandas as pa\n",
    "import numpy as np\n",
    "import numpy.random as rn\n",
    "import seaborn as sn\n",
    "import matplotlib.pyplot as plt\n",
    "import matplotlib.colors as pltco\n",
    "from sklearn.linear_model import LinearRegression\n",
    "from sklearn.neighbors import KNeighborsClassifier\n",
    "\n",
    "druguser = pa.read_csv(\"drug_consumption.csv\", names = ['ID',\n",
    "'Age',\n",
    "'Gender',\n",
    "'Education',\n",
    "'Country',\n",
    "'Ethnicity',\n",
    "'Nscore',\n",
    "'Escore',\n",
    "'Oscore',\n",
    "'Ascore',\n",
    "'Cscore',\n",
    "'Impulsive',\n",
    "'SS',\n",
    "'Alcohol',\n",
    "'Amphet',\n",
    "'Amyl',\n",
    "'Benzos',\n",
    "'Caff',\n",
    "'Cannabis',\n",
    "'Choc',\n",
    "'Coke',\n",
    "'Crack',\n",
    "'Ecstasy',\n",
    "'Heroin',\n",
    "'Ketamine',\n",
    "'Legalh',\n",
    "'LSD',\n",
    "'Meth',\n",
    "'Mushrooms',\n",
    "'Nicotine',\n",
    "'Semer',\n",
    "'VSA'])\n",
    "\n",
    "druguser.head()"
   ]
  },
  {
   "cell_type": "code",
   "execution_count": 2,
   "metadata": {},
   "outputs": [],
   "source": [
    "names = {'CL0':0,'CL1':0,'CL2':0,'CL3':0,'CL4':1,'CL5':1,'CL6':1,0:0, 1:1} #only counting people who used in last month as users.\n",
    "druguser.Cannabis = druguser.Cannabis.map(names)\n",
    "druguser.Semer = druguser.Semer.map(names)\n",
    "druguser.Nicotine = druguser.Nicotine.map(names)\n",
    "druguser.LSD = druguser.LSD.map(names)\n",
    "druguser.Mushrooms = druguser.Mushrooms.map(names)\n",
    "druguser.Ecstasy = druguser.Ecstasy.map(names)\n",
    "druguser.Coke = druguser.Coke.map(names)\n",
    "druguser.Alcohol = druguser.Alcohol.map(names)"
   ]
  },
  {
   "cell_type": "markdown",
   "metadata": {},
   "source": [
    "This helps classify 0 as a person who has not used in the last month, and 1 as a user within the last month. This helps minimize our variables down to 2 instead of 7, focusing our testing."
   ]
  },
  {
   "cell_type": "markdown",
   "metadata": {},
   "source": [
    "## PCA\n",
    "We attempt to use PCA to determine a linear combination of variables and what 2 impact the data most. "
   ]
  },
  {
   "cell_type": "code",
   "execution_count": 3,
   "metadata": {},
   "outputs": [
    {
     "name": "stdout",
     "output_type": "stream",
     "text": [
      "[0.26966741 0.1913091  0.11649396 0.1143996  0.08491502]\n"
     ]
    },
    {
     "data": {
      "image/png": "[encoded data removed]",
      "text/plain": [
       "<Figure size 432x288 with 1 Axes>"
      ]
     },
     "metadata": {
      "needs_background": "light"
     },
     "output_type": "display_data"
    }
   ],
   "source": [
    "XX = np.array(druguser[['Cscore','Escore','Ascore','Nscore','Impulsive','Oscore','Age','Gender','Education']])\n",
    "y = np.array(druguser['Cannabis'])\n",
    "from sklearn.decomposition import PCA\n",
    "pca = PCA(n_components=5)\n",
    "XXpca = pca.fit_transform(XX);\n",
    "plt.plot(XXpca[y==0, 0], XXpca[y==0, 1], 'r.')\n",
    "plt.plot(XXpca[y==1, 0], XXpca[y==1, 1], 'g.');\n",
    "print(pca.explained_variance_ratio_)"
   ]
  },
  {
   "cell_type": "markdown",
   "metadata": {},
   "source": [
    "PCA did not work (0.26 as the highest impact variable). None of the variables had an immense impact compared to the others."
   ]
  },
  {
   "cell_type": "code",
   "execution_count": 4,
   "metadata": {},
   "outputs": [],
   "source": [
    "X = np.array(druguser[['Age','Education']])\n",
    "y = np.array(druguser[['Cannabis']]).reshape(-1)\n",
    "\n",
    "n = X.shape[0]\n",
    "test = int(0.20*n)            # We will use a test set made up of 20% of the data from our sample\n",
    "perm = rn.permutation(n)   \n",
    "X = X[perm]\n",
    "y = y[perm]\n",
    "X_test = X[:test]       # Then create the test\n",
    "y_test = y[:test]\n",
    "X_train = X[test:]     # and train sets\n",
    "y_train = y[test:]\n",
    "\n",
    "\n",
    "clf = KNeighborsClassifier(n_neighbors=100) # Define the model\n",
    "clf.fit(X_train, y_train); # Train the model\n",
    "\n",
    "# Attempt at using K Nearest Neighbors, adjusted to best fit graph and see distinction."
   ]
  },
  {
   "cell_type": "code",
   "execution_count": 5,
   "metadata": {},
   "outputs": [],
   "source": [
    "def plot_cat_model(clf, X_train, y_train, X_test, y_test):\n",
    "\n",
    "    h = 0.01 # Mesh size  \n",
    "    # Plot the decision boundary. For that, we will assign a color to each\n",
    "    # point in the mesh [x_min, m_max]x[y_min, y_max].\n",
    "    x_min, x_max = X_train[:, 0].min() - 0.25, X_train[:, 0].max() + 0.25\n",
    "    y_min, y_max = X_train[:, 1].min() - 0.25, 3\n",
    "    xx, yy = np.meshgrid(np.arange(x_min, x_max, h),\n",
    "        np.arange(y_min, y_max, h))\n",
    "    Z = clf.predict(np.c_[xx.ravel(), yy.ravel()])\n",
    "\n",
    "    # Put the result into a color plot\n",
    "    Z = Z.reshape(xx.shape)\n",
    "\n",
    "    plt.figure(figsize=(8, 6))\n",
    "    cmap_light = pltco.ListedColormap(['#FFAAAA', '#AAFFAA'])\n",
    "    cmap_bold = pltco.ListedColormap(['#FF0000', '#00FF00'])\n",
    "    plt.pcolormesh(xx, yy, Z, cmap=cmap_light);\n",
    "\n",
    "    plt.scatter(X_train[:, 0], X_train[:, 1], c=y_train, cmap=cmap_bold,marker='o')\n",
    "    plt.scatter(X_test[:, 0], X_test[:, 1], c=y_test, cmap=cmap_bold, marker='+');\n",
    "    \n",
    "    print('Training Error: {}'.format(clf.score(X_train, y_train)))\n",
    "    print('Testing Error: {}'.format(clf.score(X_test, y_test)))"
   ]
  },
  {
   "cell_type": "markdown",
   "metadata": {},
   "source": [
    "## Predictors\n",
    "We chose the predictors based off the content knowledge that Age and Education have a great impact on people's lifestyle choices. This has proven through the selected models to be accurate. We have tested multiple models and found the ones above to be the best fit for our data set and in showing the corrrelations.\n",
    "\n",
    "## K nearest neighbors"
   ]
  },
  {
   "cell_type": "code",
   "execution_count": 6,
   "metadata": {},
   "outputs": [
    {
     "name": "stdout",
     "output_type": "stream",
     "text": [
      "Training Error: 0.7354111405835544\n",
      "Testing Error: 0.7374005305039788\n"
     ]
    },
    {
     "data": {
      "image/png": "[encoded data removed]",
      "text/plain": [
       "<Figure size 576x432 with 1 Axes>"
      ]
     },
     "metadata": {
      "needs_background": "light"
     },
     "output_type": "display_data"
    }
   ],
   "source": [
    "plot_cat_model(clf, X_train, y_train, X_test, y_test)"
   ]
  },
  {
   "cell_type": "markdown",
   "metadata": {},
   "source": [
    "## Age, Education and Cannabis use\n",
    "This model for Age, Education and Marjuana had an okay Training formulation but the testing error is drastically lower than the training. Marjuana is hard to have a clear separation because it is a widely used drug amongst all ages and educations. The general trend, however, is  there is more usage among younger, less educated people. \n",
    "We do need to consider the fact that age and education are also correlated."
   ]
  },
  {
   "cell_type": "code",
   "execution_count": 7,
   "metadata": {},
   "outputs": [],
   "source": [
    "X = np.array(druguser[['Age','Education']])\n",
    "y = np.array(druguser[['Nicotine']]).reshape(-1)\n",
    "\n",
    "n = X.shape[0]\n",
    "test = int(0.20*n)            # We will use a test set made up of 20% of the data from our sample\n",
    "perm = rn.permutation(n)   \n",
    "X = X[perm]\n",
    "y = y[perm]\n",
    "X_test = X[:test]       # Then create the test\n",
    "y_test = y[:test]\n",
    "X_train = X[test:]     # and train sets\n",
    "y_train = y[test:]\n",
    "\n",
    "\n",
    "clf = KNeighborsClassifier(n_neighbors=100) # Define the model\n",
    "clf.fit(X_train, y_train); # Train the model"
   ]
  },
  {
   "cell_type": "code",
   "execution_count": 8,
   "metadata": {},
   "outputs": [
    {
     "name": "stdout",
     "output_type": "stream",
     "text": [
      "Training Error: 0.6405835543766578\n",
      "Testing Error: 0.6180371352785146\n"
     ]
    },
    {
     "data": {
      "image/png": "[encoded data removed]",
      "text/plain": [
       "<Figure size 576x432 with 1 Axes>"
      ]
     },
     "metadata": {
      "needs_background": "light"
     },
     "output_type": "display_data"
    }
   ],
   "source": [
    "plot_cat_model(clf, X_train, y_train, X_test, y_test)"
   ]
  },
  {
   "cell_type": "markdown",
   "metadata": {},
   "source": [
    "## Age, Education and Nicotine use\n",
    "Nicotine is more universal and more legal, so this model did worse than the above variable comparison. The training error was worse, however the model did better when tested (closer errors)."
   ]
  },
  {
   "cell_type": "code",
   "execution_count": 9,
   "metadata": {},
   "outputs": [],
   "source": [
    "X = np.array(druguser[['Age','Education']])\n",
    "y = np.array(druguser[['Alcohol']]).reshape(-1)\n",
    "\n",
    "n = X.shape[0]\n",
    "test = int(0.20*n)            # We will use a test set made up of 20% of the data from our sample\n",
    "perm = rn.permutation(n)   \n",
    "X = X[perm]\n",
    "y = y[perm]\n",
    "X_test = X[:test]       # Then create the test\n",
    "y_test = y[:test]\n",
    "X_train = X[test:]     # and train sets\n",
    "y_train = y[test:]\n",
    "\n",
    "\n",
    "clf = KNeighborsClassifier(n_neighbors=100) # Define the model\n",
    "clf.fit(X_train, y_train); # Train the model"
   ]
  },
  {
   "cell_type": "code",
   "execution_count": 10,
   "metadata": {},
   "outputs": [
    {
     "name": "stdout",
     "output_type": "stream",
     "text": [
      "Training Error: 0.8183023872679045\n",
      "Testing Error: 0.8408488063660478\n"
     ]
    },
    {
     "data": {
      "image/png": "[encoded data removed]",
      "text/plain": [
       "<Figure size 576x432 with 1 Axes>"
      ]
     },
     "metadata": {
      "needs_background": "light"
     },
     "output_type": "display_data"
    }
   ],
   "source": [
    "plot_cat_model(clf, X_train, y_train, X_test, y_test)"
   ]
  },
  {
   "cell_type": "markdown",
   "metadata": {},
   "source": [
    "## Age, Education and Alcohol use\n",
    "Although the training/testing errors are better than Nicotine, Alcohol is the most widely used substance so the graph is classifying everybody as a drinker, no matter Age or Education.\n",
    "This error is only saying that around 80% of people in this data drank. "
   ]
  },
  {
   "cell_type": "markdown",
   "metadata": {},
   "source": [
    "## This is not a good model for alcohol use most likley because the use of alcohol is widespread throughout age and education. "
   ]
  },
  {
   "cell_type": "markdown",
   "metadata": {},
   "source": [
    "# Quadratic Discriminant Analysis \n",
    "If the correlation isn't linear, this model will be more useful than the above models."
   ]
  },
  {
   "cell_type": "code",
   "execution_count": 11,
   "metadata": {},
   "outputs": [],
   "source": [
    "X = np.array(druguser[['Education']])\n",
    "y = np.array(druguser[['Cannabis']]).reshape(-1)"
   ]
  },
  {
   "cell_type": "code",
   "execution_count": 12,
   "metadata": {},
   "outputs": [
    {
     "data": {
      "text/plain": [
       "(0.2172289972652689, -0.31151610406091373)"
      ]
     },
     "execution_count": 12,
     "metadata": {},
     "output_type": "execute_result"
    }
   ],
   "source": [
    "mu_0 = X[y==0].mean()\n",
    "mu_1 = X[y==1].mean()\n",
    "mu_0, mu_1"
   ]
  },
  {
   "cell_type": "code",
   "execution_count": 13,
   "metadata": {},
   "outputs": [],
   "source": [
    "from sklearn.discriminant_analysis import QuadraticDiscriminantAnalysis"
   ]
  },
  {
   "cell_type": "code",
   "execution_count": 14,
   "metadata": {},
   "outputs": [],
   "source": [
    "def plot_cat_model(clf, X_train, y_train, X_test, y_test):\n",
    "\n",
    "    h = 0.01 # Mesh size  \n",
    "    # Plot the decision boundary. For that, we will assign a color to each\n",
    "    # point in the mesh [x_min, m_max]x[y_min, y_max].\n",
    "    x_min, x_max = X_train[:, 0].min() - 1, X_train[:, 0].max() + 1\n",
    "    y_min, y_max = X_train[:, 1].min() - 2, X_train[:, 1].max() + 2\n",
    "    xx, yy = np.meshgrid(np.arange(x_min, x_max, h),\n",
    "        np.arange(y_min, y_max, h))\n",
    "    Z = clf.predict(np.c_[xx.ravel(), yy.ravel()])\n",
    "\n",
    "    # Put the result into a color plot\n",
    "    Z = Z.reshape(xx.shape)\n",
    "\n",
    "    plt.figure(figsize=(8, 6))\n",
    "    cmap_light = pltco.ListedColormap(['#FFAAAA', '#AAFFAA'])\n",
    "    cmap_bold = pltco.ListedColormap(['#FF0000', '#00FF00'])\n",
    "    plt.pcolormesh(xx, yy, Z, cmap=cmap_light);\n",
    "\n",
    "    plt.scatter(X_train[:, 0], X_train[:, 1], c=y_train, cmap=cmap_bold,marker='o')\n",
    "    plt.scatter(X_test[:, 0], X_test[:, 1], c=y_test, cmap=cmap_bold, marker='+');\n",
    "    \n",
    "    print('Training Error: {}'.format(clf.score(X_train, y_train)))\n",
    "    print('Testing Error: {}'.format(clf.score(X_test, y_test)))"
   ]
  },
  {
   "cell_type": "code",
   "execution_count": 15,
   "metadata": {},
   "outputs": [],
   "source": [
    "X = np.array(druguser[['Age','Education']])\n",
    "y = np.array(druguser[['Cannabis']]).reshape(-1)\n",
    "\n",
    "n = X.shape[0]\n",
    "test = int(0.20*n)            # We will use a test set made up of 20% of the data from our sample\n",
    "perm = rn.permutation(n)   \n",
    "X = X[perm]\n",
    "y = y[perm]\n",
    "X_test = X[:test]       # Then create the test\n",
    "y_test = y[:test]\n",
    "X_train = X[test:]     # and train sets\n",
    "y_train = y[test:]"
   ]
  },
  {
   "cell_type": "code",
   "execution_count": 16,
   "metadata": {},
   "outputs": [
    {
     "name": "stdout",
     "output_type": "stream",
     "text": [
      "Training Error: 0.7354111405835544\n",
      "Testing Error: 0.7320954907161804\n"
     ]
    },
    {
     "data": {
      "image/png": "[encoded data removed]",
      "text/plain": [
       "<Figure size 576x432 with 1 Axes>"
      ]
     },
     "metadata": {
      "needs_background": "light"
     },
     "output_type": "display_data"
    }
   ],
   "source": [
    "clf2 = QuadraticDiscriminantAnalysis()\n",
    "clf2.fit(X_train, y_train)\n",
    "plot_cat_model(clf2, X_train, y_train, X_test, y_test)"
   ]
  },
  {
   "cell_type": "markdown",
   "metadata": {},
   "source": [
    "Although the training/testing errors aren't the highest as above models, the graph did a pretty decent job at discriminating between the most commonly seen education/age of marjuana users. This is a better representation than the K nearest neighbors model as it is more flexible and smoother transition between points. This could possibly allow for better overfitting."
   ]
  },
  {
   "cell_type": "markdown",
   "metadata": {},
   "source": [
    "Next Steps: Apply newer models, make prettier/applicable graphs, continue narrowing focus using Bootstrapping/Cross Validation"
   ]
  },
  {
   "cell_type": "code",
   "execution_count": 17,
   "metadata": {},
   "outputs": [],
   "source": [
    "X = np.array(druguser[['Age','Education']])\n",
    "y = np.array(druguser[['Cannabis']]).reshape(-1)\n",
    "\n",
    "n = X.shape[0]\n",
    "test = int(0.20*n)           \n",
    "perm = rn.permutation(n)   \n",
    "X = X[perm]\n",
    "y = y[perm]\n",
    "X_test = X[:test]  \n",
    "y_test = y[:test]\n",
    "X_train = X[test:]  \n",
    "y_train = y[test:]"
   ]
  },
  {
   "cell_type": "code",
   "execution_count": 18,
   "metadata": {},
   "outputs": [
    {
     "data": {
      "text/html": [
       "<div>\n",
       "<style scoped>\n",
       "    .dataframe tbody tr th:only-of-type {\n",
       "        vertical-align: middle;\n",
       "    }\n",
       "\n",
       "    .dataframe tbody tr th {\n",
       "        vertical-align: top;\n",
       "    }\n",
       "\n",
       "    .dataframe thead th {\n",
       "        text-align: right;\n",
       "    }\n",
       "</style>\n",
       "<table border=\"1\" class=\"dataframe\">\n",
       "  <thead>\n",
       "    <tr style=\"text-align: right;\">\n",
       "      <th></th>\n",
       "      <th>train</th>\n",
       "      <th>test</th>\n",
       "    </tr>\n",
       "  </thead>\n",
       "  <tbody>\n",
       "    <tr>\n",
       "      <th>47</th>\n",
       "      <td>0.723475</td>\n",
       "      <td>0.745358</td>\n",
       "    </tr>\n",
       "    <tr>\n",
       "      <th>48</th>\n",
       "      <td>0.743369</td>\n",
       "      <td>0.732095</td>\n",
       "    </tr>\n",
       "    <tr>\n",
       "      <th>49</th>\n",
       "      <td>0.718833</td>\n",
       "      <td>0.732095</td>\n",
       "    </tr>\n",
       "    <tr>\n",
       "      <th>Mean</th>\n",
       "      <td>0.733581</td>\n",
       "      <td>0.733846</td>\n",
       "    </tr>\n",
       "    <tr>\n",
       "      <th>Standard Deviation</th>\n",
       "      <td>0.011566</td>\n",
       "      <td>0.025786</td>\n",
       "    </tr>\n",
       "  </tbody>\n",
       "</table>\n",
       "</div>"
      ],
      "text/plain": [
       "                       train      test\n",
       "47                  0.723475  0.745358\n",
       "48                  0.743369  0.732095\n",
       "49                  0.718833  0.732095\n",
       "Mean                0.733581  0.733846\n",
       "Standard Deviation  0.011566  0.025786"
      ]
     },
     "execution_count": 18,
     "metadata": {},
     "output_type": "execute_result"
    }
   ],
   "source": [
    "num = 50 \n",
    "Xboot = [0]*num\n",
    "yboot = [0]*num\n",
    "\n",
    "n = X.shape[0]\n",
    "for s in range(num):\n",
    "    sample = np.random.randint(0, n, n) \n",
    "    Xboot[s] = X[sample, :]\n",
    "    yboot[s] = y[sample]\n",
    "\n",
    "test = int(0.20*n)\n",
    "\n",
    "labels = ['train','test']\n",
    "\n",
    "Error = pa.DataFrame(  np.array([0]*num*2).reshape(num, 2), columns = labels)\n",
    "\n",
    "for s in range(num):\n",
    "    X_test = Xboot[s][:test]\n",
    "    y_test = yboot[s][:test]\n",
    "    X_train = Xboot[s][test:]\n",
    "    y_train = yboot[s][test:]\n",
    "    \n",
    "    clf2 = QuadraticDiscriminantAnalysis()\n",
    "    clf2.fit(X_train, y_train)\n",
    "    Error.iloc[s, 0] = clf2.score(X_train, y_train) \n",
    "    Error.iloc[s, 1] = clf2.score(X_test, y_test)\n",
    "      \n",
    "Error_mean = [0]*2\n",
    "Error_std = [0]*2\n",
    "for c in range(2):\n",
    "    Error_mean[c] = np.mean(Error.iloc[:num, c])\n",
    "    Error_std[c] = np.std(Error.iloc[:num, c])\n",
    "    \n",
    "Error = Error.append( pa.Series(Error_mean, index=Error.columns), ignore_index=True)\n",
    "Error = Error.append( pa.Series(Error_std, index=Error.columns), ignore_index=True)\n",
    "Error.index = list(range(num)) + ['Mean', 'Standard Deviation']\n",
    "Error.tail()\n",
    "   "
   ]
  },
  {
   "cell_type": "markdown",
   "metadata": {},
   "source": [
    "Application of Cross Validation did not work, so Bootstrapping was used. The Training and Testing errors are very close to each other. "
   ]
  },
  {
   "cell_type": "code",
   "execution_count": 19,
   "metadata": {},
   "outputs": [
    {
     "data": {
      "text/html": [
       "<div>\n",
       "<style scoped>\n",
       "    .dataframe tbody tr th:only-of-type {\n",
       "        vertical-align: middle;\n",
       "    }\n",
       "\n",
       "    .dataframe tbody tr th {\n",
       "        vertical-align: top;\n",
       "    }\n",
       "\n",
       "    .dataframe thead th {\n",
       "        text-align: right;\n",
       "    }\n",
       "</style>\n",
       "<table border=\"1\" class=\"dataframe\">\n",
       "  <thead>\n",
       "    <tr style=\"text-align: right;\">\n",
       "      <th></th>\n",
       "      <th>train</th>\n",
       "      <th>test</th>\n",
       "    </tr>\n",
       "  </thead>\n",
       "  <tbody>\n",
       "    <tr>\n",
       "      <th>47</th>\n",
       "      <td>0.736737</td>\n",
       "      <td>0.692308</td>\n",
       "    </tr>\n",
       "    <tr>\n",
       "      <th>48</th>\n",
       "      <td>0.728117</td>\n",
       "      <td>0.689655</td>\n",
       "    </tr>\n",
       "    <tr>\n",
       "      <th>49</th>\n",
       "      <td>0.722812</td>\n",
       "      <td>0.726790</td>\n",
       "    </tr>\n",
       "    <tr>\n",
       "      <th>Mean</th>\n",
       "      <td>0.736194</td>\n",
       "      <td>0.722281</td>\n",
       "    </tr>\n",
       "    <tr>\n",
       "      <th>Standard Deviation</th>\n",
       "      <td>0.013142</td>\n",
       "      <td>0.029823</td>\n",
       "    </tr>\n",
       "  </tbody>\n",
       "</table>\n",
       "</div>"
      ],
      "text/plain": [
       "                       train      test\n",
       "47                  0.736737  0.692308\n",
       "48                  0.728117  0.689655\n",
       "49                  0.722812  0.726790\n",
       "Mean                0.736194  0.722281\n",
       "Standard Deviation  0.013142  0.029823"
      ]
     },
     "execution_count": 19,
     "metadata": {},
     "output_type": "execute_result"
    }
   ],
   "source": [
    "num = 50 \n",
    "Xboot = [0]*num\n",
    "yboot = [0]*num\n",
    "\n",
    "n = X.shape[0]\n",
    "for s in range(num):\n",
    "    sample = np.random.randint(0, n, n) \n",
    "    Xboot[s] = X[sample, :]\n",
    "    yboot[s] = y[sample]\n",
    "\n",
    "test = int(0.20*n)\n",
    "\n",
    "labels = ['train','test']\n",
    "\n",
    "Error = pa.DataFrame(  np.array([0]*num*2).reshape(num, 2), columns = labels)\n",
    "\n",
    "for s in range(num):\n",
    "    X_test = Xboot[s][:test]\n",
    "    y_test = yboot[s][:test]\n",
    "    X_train = Xboot[s][test:]\n",
    "    y_train = yboot[s][test:]\n",
    "    \n",
    "    clf2 = KNeighborsClassifier(n_neighbors=100)\n",
    "    clf2.fit(X_train, y_train)\n",
    "    Error.iloc[s, 0] = clf2.score(X_train, y_train) \n",
    "    Error.iloc[s, 1] = clf2.score(X_test, y_test)\n",
    "      \n",
    "Error_mean = [0]*2\n",
    "Error_std = [0]*2\n",
    "for c in range(2):\n",
    "    Error_mean[c] = np.mean(Error.iloc[:num, c])\n",
    "    Error_std[c] = np.std(Error.iloc[:num, c])\n",
    "    \n",
    "Error = Error.append( pa.Series(Error_mean, index=Error.columns), ignore_index=True)\n",
    "Error = Error.append( pa.Series(Error_std, index=Error.columns), ignore_index=True)\n",
    "Error.index = list(range(num)) + ['Mean', 'Standard Deviation']\n",
    "Error.tail()\n",
    "   "
   ]
  },
  {
   "cell_type": "markdown",
   "metadata": {},
   "source": [
    "After comparing the Quadratic Discriminant Analysis Bootstrap, and K Nearest Neighbors Bootstrap, Quadratic has shown to be the best model for our data, with a very slightly smaller standard deviation of error.  "
   ]
  },
  {
   "cell_type": "markdown",
   "metadata": {},
   "source": [
    "Support Vector Model would not be successful with this data, and is not included for that reason."
   ]
  },
  {
   "cell_type": "markdown",
   "metadata": {},
   "source": [
    "# Decision tree \n",
    "Note: the graphviz package would not import properly, we can still use the method but we do not have the tree visual. "
   ]
  },
  {
   "cell_type": "code",
   "execution_count": 20,
   "metadata": {},
   "outputs": [],
   "source": [
    "from sklearn.tree import export_graphviz\n",
    "from sklearn.tree import DecisionTreeClassifier"
   ]
  },
  {
   "cell_type": "code",
   "execution_count": 21,
   "metadata": {},
   "outputs": [],
   "source": [
    "def plot_cat_model(clf, X, y):\n",
    " \n",
    "    # We shuffle the data using a random permutation\n",
    "\n",
    "    n = X.shape[0]\n",
    "    test = int(0.20*n)            # We will use a test set made up of 20% of the data from our sample\n",
    "    perm = rn.permutation(n)   \n",
    "    X = X[perm]\n",
    "    y = y[perm]\n",
    "    X_test = X[:test]       # Then create the test\n",
    "    y_test = y[:test]\n",
    "    X_train = X[test:]     # and train sets\n",
    "    y_train = y[test:]\n",
    "    \n",
    "    clf.fit(X_train, y_train) # Fit the model\n",
    "\n",
    "    nn = 2000\n",
    "    # Plot the decision boundary. For that, we will assign a color to each\n",
    "    # point in the mesh [x_min, m_max]x[y_min, y_max].\n",
    "    x_min, x_max = X[:, 0].min() - 1, X[:, 0].max() + 1\n",
    "    y_min, y_max = X[:, 1].min() - 2, X[:, 1].max() + 2\n",
    "    xx, yy = np.meshgrid(np.linspace(x_min, x_max, nn),\n",
    "        np.linspace(y_min, y_max, nn))\n",
    "    \n",
    "    Z = clf.predict(np.c_[xx.ravel(), yy.ravel()])\n",
    "\n",
    "    # Put the result into a color plot\n",
    "    Z = Z.reshape(xx.shape)\n",
    "\n",
    "    plt.figure(figsize=(8, 6))\n",
    "    cmap_light = pltco.ListedColormap(['#FFAAAA', '#AAFFAA'])\n",
    "    cmap_bold = pltco.ListedColormap(['#FF0000', '#00FF00'])\n",
    "    plt.pcolormesh(xx, yy, Z, cmap=cmap_light);\n",
    "\n",
    "    plt.scatter(X_train[:, 0], X_train[:, 1], c=y_train, cmap=cmap_bold,marker='o')\n",
    "    plt.scatter(X_test[:, 0], X_test[:, 1], c=y_test, cmap=cmap_bold, marker='+');\n",
    "    \n",
    "    print('Training Error: {}'.format(clf.score(X_train, y_train)))\n",
    "    print('Testing Error: {}'.format(clf.score(X_test, y_test)))"
   ]
  },
  {
   "cell_type": "code",
   "execution_count": 22,
   "metadata": {},
   "outputs": [],
   "source": [
    "from sklearn.tree import DecisionTreeClassifier"
   ]
  },
  {
   "cell_type": "code",
   "execution_count": 23,
   "metadata": {},
   "outputs": [
    {
     "name": "stdout",
     "output_type": "stream",
     "text": [
      "Training Error: 0.6511936339522546\n",
      "Testing Error: 0.6286472148541115\n"
     ]
    },
    {
     "data": {
      "image/png": "[encoded data removed]",
      "text/plain": [
       "<Figure size 576x432 with 1 Axes>"
      ]
     },
     "metadata": {
      "needs_background": "light"
     },
     "output_type": "display_data"
    }
   ],
   "source": [
    "X = np.array(druguser[['Age','Education']])\n",
    "y = np.array(druguser[['Nicotine']]).reshape(-1)\n",
    "\n",
    "tree = DecisionTreeClassifier(min_samples_leaf=5)\n",
    "plot_cat_model(tree, X, y)"
   ]
  },
  {
   "cell_type": "code",
   "execution_count": 24,
   "metadata": {},
   "outputs": [
    {
     "data": {
      "text/html": [
       "<div>\n",
       "<style scoped>\n",
       "    .dataframe tbody tr th:only-of-type {\n",
       "        vertical-align: middle;\n",
       "    }\n",
       "\n",
       "    .dataframe tbody tr th {\n",
       "        vertical-align: top;\n",
       "    }\n",
       "\n",
       "    .dataframe thead th {\n",
       "        text-align: right;\n",
       "    }\n",
       "</style>\n",
       "<table border=\"1\" class=\"dataframe\">\n",
       "  <thead>\n",
       "    <tr style=\"text-align: right;\">\n",
       "      <th></th>\n",
       "      <th>train</th>\n",
       "      <th>test</th>\n",
       "    </tr>\n",
       "  </thead>\n",
       "  <tbody>\n",
       "    <tr>\n",
       "      <th>47</th>\n",
       "      <td>0.646552</td>\n",
       "      <td>0.673740</td>\n",
       "    </tr>\n",
       "    <tr>\n",
       "      <th>48</th>\n",
       "      <td>0.671088</td>\n",
       "      <td>0.644562</td>\n",
       "    </tr>\n",
       "    <tr>\n",
       "      <th>49</th>\n",
       "      <td>0.674403</td>\n",
       "      <td>0.612732</td>\n",
       "    </tr>\n",
       "    <tr>\n",
       "      <th>Mean</th>\n",
       "      <td>0.661844</td>\n",
       "      <td>0.638621</td>\n",
       "    </tr>\n",
       "    <tr>\n",
       "      <th>Standard Deviation</th>\n",
       "      <td>0.011122</td>\n",
       "      <td>0.019065</td>\n",
       "    </tr>\n",
       "  </tbody>\n",
       "</table>\n",
       "</div>"
      ],
      "text/plain": [
       "                       train      test\n",
       "47                  0.646552  0.673740\n",
       "48                  0.671088  0.644562\n",
       "49                  0.674403  0.612732\n",
       "Mean                0.661844  0.638621\n",
       "Standard Deviation  0.011122  0.019065"
      ]
     },
     "execution_count": 24,
     "metadata": {},
     "output_type": "execute_result"
    }
   ],
   "source": [
    "num = 50 \n",
    "Xboot = [0]*num\n",
    "yboot = [0]*num\n",
    "\n",
    "n = X.shape[0]\n",
    "for s in range(num):\n",
    "    sample = np.random.randint(0, n, n) \n",
    "    Xboot[s] = X[sample, :]\n",
    "    yboot[s] = y[sample]\n",
    "\n",
    "test = int(0.20*n)\n",
    "\n",
    "labels = ['train','test']\n",
    "\n",
    "Error = pa.DataFrame(  np.array([0]*num*2).reshape(num, 2), columns = labels)\n",
    "\n",
    "for s in range(num):\n",
    "    X_test = Xboot[s][:test]\n",
    "    y_test = yboot[s][:test]\n",
    "    X_train = Xboot[s][test:]\n",
    "    y_train = yboot[s][test:]\n",
    "    \n",
    "    clf2 = DecisionTreeClassifier(min_samples_leaf=5)\n",
    "    clf2.fit(X_train, y_train)\n",
    "    Error.iloc[s, 0] = clf2.score(X_train, y_train) \n",
    "    Error.iloc[s, 1] = clf2.score(X_test, y_test)\n",
    "      \n",
    "Error_mean = [0]*2\n",
    "Error_std = [0]*2\n",
    "for c in range(2):\n",
    "    Error_mean[c] = np.mean(Error.iloc[:num, c])\n",
    "    Error_std[c] = np.std(Error.iloc[:num, c])\n",
    "    \n",
    "Error = Error.append( pa.Series(Error_mean, index=Error.columns), ignore_index=True)\n",
    "Error = Error.append( pa.Series(Error_std, index=Error.columns), ignore_index=True)\n",
    "Error.index = list(range(num)) + ['Mean', 'Standard Deviation']\n",
    "Error.tail()\n",
    "   "
   ]
  },
  {
   "cell_type": "markdown",
   "metadata": {},
   "source": [
    "Bootstrapping on the decision tree showed us it is not as effective as the other models used. "
   ]
  },
  {
   "cell_type": "markdown",
   "metadata": {},
   "source": [
    "## Challenges\n",
    "- Getting better results (over 80% error)\n",
    "- Accounting for users and non users very different values\n",
    "- Decision Tree visualization\n",
    "- Drawing conclusions from data"
   ]
  },
  {
   "cell_type": "markdown",
   "metadata": {},
   "source": [
    "## Next Steps\n",
    "- Utilize more models to see if a better error % can be produced\n",
    "- Draw conclusions from data\n",
    "- Secondary question featuring a new drug\n",
    "\n",
    "Jeremey: Main Code Guy\n",
    "Sydney: Understanding Background information of variables/predictors\n",
    "Ashley: Markdown"
   ]
  },
  {
   "cell_type": "markdown",
   "metadata": {},
   "source": [
    "If this was for a high level research company, we don't think this would be worth putting money into it due to it having no sale value. It could be used as an advertising ploy involving the personality test scores/traits. It could also be a governmentally funded project."
   ]
  },
  {
   "cell_type": "code",
   "execution_count": 25,
   "metadata": {},
   "outputs": [],
   "source": [
    "keep = list(druguser.columns[druguser.dtypes!='object'][1:])\n",
    "\n",
    "keep.remove('Alcohol')\n",
    "##keep.remove('Amphet')\n",
    "##keep.remove('Amyl')\n",
    "##keep.remove('Benzos')\n",
    "##keep.remove('Caff')\n",
    "keep.remove('Cannabis')\n",
    "##keep.remove('Choc')\n",
    "keep.remove('Coke')\n",
    "##keep.remove('Crack')\n",
    "keep.remove('Ecstasy')\n",
    "##keep.remove('Heroin')\n",
    "##keep.remove('Ketamine')\n",
    "##keep.remove('Legalh')\n",
    "keep.remove('LSD')\n",
    "##keep.remove('Meth')\n",
    "keep.remove('Mushrooms')\n",
    "keep.remove('Nicotine')\n",
    "keep.remove('Semer')\n",
    "##keep.remove('VSA')\n",
    "X = np.array(druguser.loc[:, keep])\n",
    "y = np.array(druguser.loc[:, 'Cannabis'])\n"
   ]
  },
  {
   "cell_type": "code",
   "execution_count": 26,
   "metadata": {},
   "outputs": [
    {
     "data": {
      "text/plain": [
       "0.8992042440318302"
      ]
     },
     "execution_count": 26,
     "metadata": {},
     "output_type": "execute_result"
    }
   ],
   "source": [
    "tree = DecisionTreeClassifier(min_samples_leaf=5)\n",
    "tree.fit(X, y)\n",
    "tree.score(X, y)"
   ]
  },
  {
   "cell_type": "code",
   "execution_count": 27,
   "metadata": {},
   "outputs": [],
   "source": [
    "def plot_feature_importances(model, names, tol=10**-3):\n",
    "    n_features = len(names)\n",
    "    plot_names = []\n",
    "    plot_importances = []\n",
    "    \n",
    "    for k in range(n_features):\n",
    "        if model.feature_importances_[k] > tol:\n",
    "            plot_names += [ names[k] ]\n",
    "            plot_importances += [ model.feature_importances_[k] ]\n",
    "    \n",
    "    n_plot = len(plot_names)\n",
    "    \n",
    "    plt.figure(figsize = (10, 6))\n",
    "    plt.barh(range(n_plot), plot_importances, align = 'center')\n",
    "    plt.yticks(np.arange(n_plot), plot_names)\n",
    "    plt.xlabel('Feature importance')\n",
    "    plt.ylabel('Feature')\n",
    "    plt.ylim(-1, n_plot)"
   ]
  },
  {
   "cell_type": "code",
   "execution_count": 28,
   "metadata": {},
   "outputs": [
    {
     "data": {
      "image/png": "[encoded data removed]",
      "text/plain": [
       "<Figure size 720x432 with 1 Axes>"
      ]
     },
     "metadata": {
      "needs_background": "light"
     },
     "output_type": "display_data"
    }
   ],
   "source": [
    "plot_feature_importances(tree, keep)"
   ]
  },
  {
   "cell_type": "code",
   "execution_count": null,
   "metadata": {},
   "outputs": [],
   "source": []
  },
  {
   "cell_type": "code",
   "execution_count": null,
   "metadata": {},
   "outputs": [],
   "source": []
  }
 ],
 "metadata": {
  "kernelspec": {
   "display_name": "Python 3",
   "language": "python",
   "name": "python3"
  },
  "language_info": {
   "codemirror_mode": {
    "name": "ipython",
    "version": 3
   },
   "file_extension": ".py",
   "mimetype": "text/x-python",
   "name": "python",
   "nbconvert_exporter": "python",
   "pygments_lexer": "ipython3",
   "version": "3.7.3"
  }
 },
 "nbformat": 4,
 "nbformat_minor": 4
}
