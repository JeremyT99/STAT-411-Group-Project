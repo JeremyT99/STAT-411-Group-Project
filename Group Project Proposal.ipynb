{
 "cells": [
  {
   "cell_type": "markdown",
   "metadata": {},
   "source": [
    "GROUP PROJECT PROPOSAL\n",
    "Jeremey, Ashley Snell, Sydney\n",
    "\n",
    "Our data set is Drug Consumption (quantified) from UCI data archive. We are thinking about comparing the Age to the most used drug, and then from there looking for a correlation between that information and their personality characteristics (multiple personality tests quantified).\n",
    "There are 1885 data points, and 32 attributes. We are likely to use \"softer\" drugs (\"Party Drug\").\n",
    "The attributes we are hoping to include: Age, EScore, OScore, AScore, Impulsivity, Ecstasty, LSD, etc. "
   ]
  },
  {
   "cell_type": "code",
   "execution_count": null,
   "metadata": {},
   "outputs": [],
   "source": []
  }
 ],
 "metadata": {
  "kernelspec": {
   "display_name": "Python 3",
   "language": "python",
   "name": "python3"
  },
  "language_info": {
   "codemirror_mode": {
    "name": "ipython",
    "version": 3
   },
   "file_extension": ".py",
   "mimetype": "text/x-python",
   "name": "python",
   "nbconvert_exporter": "python",
   "pygments_lexer": "ipython3",
   "version": "3.7.3"
  }
 },
 "nbformat": 4,
 "nbformat_minor": 4
}
