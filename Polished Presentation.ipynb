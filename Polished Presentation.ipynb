{
 "cells": [
  {
   "cell_type": "markdown",
   "metadata": {},
   "source": [
    "# Final Project \n",
    "\n",
    "By Ashley Snell, Jeremy Taylor, Sydney Small\n",
    "\n"
   ]
  },
  {
   "cell_type": "markdown",
   "metadata": {},
   "source": [
    "## Content Knowledge:\n"
   ]
  },
  {
   "cell_type": "code",
   "execution_count": 17,
   "metadata": {},
   "outputs": [
    {
     "data": {
      "text/html": [
       "<div>\n",
       "<style scoped>\n",
       "    .dataframe tbody tr th:only-of-type {\n",
       "        vertical-align: middle;\n",
       "    }\n",
       "\n",
       "    .dataframe tbody tr th {\n",
       "        vertical-align: top;\n",
       "    }\n",
       "\n",
       "    .dataframe thead th {\n",
       "        text-align: right;\n",
       "    }\n",
       "</style>\n",
       "<table border=\"1\" class=\"dataframe\">\n",
       "  <thead>\n",
       "    <tr style=\"text-align: right;\">\n",
       "      <th></th>\n",
       "      <th>ID</th>\n",
       "      <th>Age</th>\n",
       "      <th>Gender</th>\n",
       "      <th>Education</th>\n",
       "      <th>Country</th>\n",
       "      <th>Ethnicity</th>\n",
       "      <th>Nscore</th>\n",
       "      <th>Escore</th>\n",
       "      <th>Oscore</th>\n",
       "      <th>Ascore</th>\n",
       "      <th>...</th>\n",
       "      <th>Ecstasy</th>\n",
       "      <th>Heroin</th>\n",
       "      <th>Ketamine</th>\n",
       "      <th>Legalh</th>\n",
       "      <th>LSD</th>\n",
       "      <th>Meth</th>\n",
       "      <th>Mushrooms</th>\n",
       "      <th>Nicotine</th>\n",
       "      <th>Semer</th>\n",
       "      <th>VSA</th>\n",
       "    </tr>\n",
       "  </thead>\n",
       "  <tbody>\n",
       "    <tr>\n",
       "      <th>0</th>\n",
       "      <td>1</td>\n",
       "      <td>0.49788</td>\n",
       "      <td>0.48246</td>\n",
       "      <td>-0.05921</td>\n",
       "      <td>0.96082</td>\n",
       "      <td>0.12600</td>\n",
       "      <td>0.31287</td>\n",
       "      <td>-0.57545</td>\n",
       "      <td>-0.58331</td>\n",
       "      <td>-0.91699</td>\n",
       "      <td>...</td>\n",
       "      <td>CL0</td>\n",
       "      <td>CL0</td>\n",
       "      <td>CL0</td>\n",
       "      <td>CL0</td>\n",
       "      <td>CL0</td>\n",
       "      <td>CL0</td>\n",
       "      <td>CL0</td>\n",
       "      <td>CL2</td>\n",
       "      <td>CL0</td>\n",
       "      <td>CL0</td>\n",
       "    </tr>\n",
       "    <tr>\n",
       "      <th>1</th>\n",
       "      <td>2</td>\n",
       "      <td>-0.07854</td>\n",
       "      <td>-0.48246</td>\n",
       "      <td>1.98437</td>\n",
       "      <td>0.96082</td>\n",
       "      <td>-0.31685</td>\n",
       "      <td>-0.67825</td>\n",
       "      <td>1.93886</td>\n",
       "      <td>1.43533</td>\n",
       "      <td>0.76096</td>\n",
       "      <td>...</td>\n",
       "      <td>CL4</td>\n",
       "      <td>CL0</td>\n",
       "      <td>CL2</td>\n",
       "      <td>CL0</td>\n",
       "      <td>CL2</td>\n",
       "      <td>CL3</td>\n",
       "      <td>CL0</td>\n",
       "      <td>CL4</td>\n",
       "      <td>CL0</td>\n",
       "      <td>CL0</td>\n",
       "    </tr>\n",
       "    <tr>\n",
       "      <th>2</th>\n",
       "      <td>3</td>\n",
       "      <td>0.49788</td>\n",
       "      <td>-0.48246</td>\n",
       "      <td>-0.05921</td>\n",
       "      <td>0.96082</td>\n",
       "      <td>-0.31685</td>\n",
       "      <td>-0.46725</td>\n",
       "      <td>0.80523</td>\n",
       "      <td>-0.84732</td>\n",
       "      <td>-1.62090</td>\n",
       "      <td>...</td>\n",
       "      <td>CL0</td>\n",
       "      <td>CL0</td>\n",
       "      <td>CL0</td>\n",
       "      <td>CL0</td>\n",
       "      <td>CL0</td>\n",
       "      <td>CL0</td>\n",
       "      <td>CL1</td>\n",
       "      <td>CL0</td>\n",
       "      <td>CL0</td>\n",
       "      <td>CL0</td>\n",
       "    </tr>\n",
       "    <tr>\n",
       "      <th>3</th>\n",
       "      <td>4</td>\n",
       "      <td>-0.95197</td>\n",
       "      <td>0.48246</td>\n",
       "      <td>1.16365</td>\n",
       "      <td>0.96082</td>\n",
       "      <td>-0.31685</td>\n",
       "      <td>-0.14882</td>\n",
       "      <td>-0.80615</td>\n",
       "      <td>-0.01928</td>\n",
       "      <td>0.59042</td>\n",
       "      <td>...</td>\n",
       "      <td>CL0</td>\n",
       "      <td>CL0</td>\n",
       "      <td>CL2</td>\n",
       "      <td>CL0</td>\n",
       "      <td>CL0</td>\n",
       "      <td>CL0</td>\n",
       "      <td>CL0</td>\n",
       "      <td>CL2</td>\n",
       "      <td>CL0</td>\n",
       "      <td>CL0</td>\n",
       "    </tr>\n",
       "    <tr>\n",
       "      <th>4</th>\n",
       "      <td>5</td>\n",
       "      <td>0.49788</td>\n",
       "      <td>0.48246</td>\n",
       "      <td>1.98437</td>\n",
       "      <td>0.96082</td>\n",
       "      <td>-0.31685</td>\n",
       "      <td>0.73545</td>\n",
       "      <td>-1.63340</td>\n",
       "      <td>-0.45174</td>\n",
       "      <td>-0.30172</td>\n",
       "      <td>...</td>\n",
       "      <td>CL1</td>\n",
       "      <td>CL0</td>\n",
       "      <td>CL0</td>\n",
       "      <td>CL1</td>\n",
       "      <td>CL0</td>\n",
       "      <td>CL0</td>\n",
       "      <td>CL2</td>\n",
       "      <td>CL2</td>\n",
       "      <td>CL0</td>\n",
       "      <td>CL0</td>\n",
       "    </tr>\n",
       "    <tr>\n",
       "      <th>5</th>\n",
       "      <td>6</td>\n",
       "      <td>2.59171</td>\n",
       "      <td>0.48246</td>\n",
       "      <td>-1.22751</td>\n",
       "      <td>0.24923</td>\n",
       "      <td>-0.31685</td>\n",
       "      <td>-0.67825</td>\n",
       "      <td>-0.30033</td>\n",
       "      <td>-1.55521</td>\n",
       "      <td>2.03972</td>\n",
       "      <td>...</td>\n",
       "      <td>CL0</td>\n",
       "      <td>CL0</td>\n",
       "      <td>CL0</td>\n",
       "      <td>CL0</td>\n",
       "      <td>CL0</td>\n",
       "      <td>CL0</td>\n",
       "      <td>CL0</td>\n",
       "      <td>CL6</td>\n",
       "      <td>CL0</td>\n",
       "      <td>CL0</td>\n",
       "    </tr>\n",
       "    <tr>\n",
       "      <th>6</th>\n",
       "      <td>7</td>\n",
       "      <td>1.09449</td>\n",
       "      <td>-0.48246</td>\n",
       "      <td>1.16365</td>\n",
       "      <td>-0.57009</td>\n",
       "      <td>-0.31685</td>\n",
       "      <td>-0.46725</td>\n",
       "      <td>-1.09207</td>\n",
       "      <td>-0.45174</td>\n",
       "      <td>-0.30172</td>\n",
       "      <td>...</td>\n",
       "      <td>CL0</td>\n",
       "      <td>CL0</td>\n",
       "      <td>CL0</td>\n",
       "      <td>CL0</td>\n",
       "      <td>CL0</td>\n",
       "      <td>CL0</td>\n",
       "      <td>CL0</td>\n",
       "      <td>CL6</td>\n",
       "      <td>CL0</td>\n",
       "      <td>CL0</td>\n",
       "    </tr>\n",
       "    <tr>\n",
       "      <th>7</th>\n",
       "      <td>8</td>\n",
       "      <td>0.49788</td>\n",
       "      <td>-0.48246</td>\n",
       "      <td>-1.73790</td>\n",
       "      <td>0.96082</td>\n",
       "      <td>-0.31685</td>\n",
       "      <td>-1.32828</td>\n",
       "      <td>1.93886</td>\n",
       "      <td>-0.84732</td>\n",
       "      <td>-0.30172</td>\n",
       "      <td>...</td>\n",
       "      <td>CL0</td>\n",
       "      <td>CL0</td>\n",
       "      <td>CL0</td>\n",
       "      <td>CL0</td>\n",
       "      <td>CL0</td>\n",
       "      <td>CL0</td>\n",
       "      <td>CL0</td>\n",
       "      <td>CL0</td>\n",
       "      <td>CL0</td>\n",
       "      <td>CL0</td>\n",
       "    </tr>\n",
       "    <tr>\n",
       "      <th>8</th>\n",
       "      <td>9</td>\n",
       "      <td>0.49788</td>\n",
       "      <td>0.48246</td>\n",
       "      <td>-0.05921</td>\n",
       "      <td>0.24923</td>\n",
       "      <td>-0.31685</td>\n",
       "      <td>0.62967</td>\n",
       "      <td>2.57309</td>\n",
       "      <td>-0.97631</td>\n",
       "      <td>0.76096</td>\n",
       "      <td>...</td>\n",
       "      <td>CL0</td>\n",
       "      <td>CL0</td>\n",
       "      <td>CL0</td>\n",
       "      <td>CL0</td>\n",
       "      <td>CL0</td>\n",
       "      <td>CL0</td>\n",
       "      <td>CL0</td>\n",
       "      <td>CL6</td>\n",
       "      <td>CL0</td>\n",
       "      <td>CL0</td>\n",
       "    </tr>\n",
       "    <tr>\n",
       "      <th>9</th>\n",
       "      <td>10</td>\n",
       "      <td>1.82213</td>\n",
       "      <td>-0.48246</td>\n",
       "      <td>1.16365</td>\n",
       "      <td>0.96082</td>\n",
       "      <td>-0.31685</td>\n",
       "      <td>-0.24649</td>\n",
       "      <td>0.00332</td>\n",
       "      <td>-1.42424</td>\n",
       "      <td>0.59042</td>\n",
       "      <td>...</td>\n",
       "      <td>CL0</td>\n",
       "      <td>CL0</td>\n",
       "      <td>CL0</td>\n",
       "      <td>CL0</td>\n",
       "      <td>CL0</td>\n",
       "      <td>CL0</td>\n",
       "      <td>CL0</td>\n",
       "      <td>CL6</td>\n",
       "      <td>CL0</td>\n",
       "      <td>CL0</td>\n",
       "    </tr>\n",
       "  </tbody>\n",
       "</table>\n",
       "<p>10 rows × 32 columns</p>\n",
       "</div>"
      ],
      "text/plain": [
       "   ID      Age   Gender  Education  Country  Ethnicity   Nscore   Escore  \\\n",
       "0   1  0.49788  0.48246   -0.05921  0.96082    0.12600  0.31287 -0.57545   \n",
       "1   2 -0.07854 -0.48246    1.98437  0.96082   -0.31685 -0.67825  1.93886   \n",
       "2   3  0.49788 -0.48246   -0.05921  0.96082   -0.31685 -0.46725  0.80523   \n",
       "3   4 -0.95197  0.48246    1.16365  0.96082   -0.31685 -0.14882 -0.80615   \n",
       "4   5  0.49788  0.48246    1.98437  0.96082   -0.31685  0.73545 -1.63340   \n",
       "5   6  2.59171  0.48246   -1.22751  0.24923   -0.31685 -0.67825 -0.30033   \n",
       "6   7  1.09449 -0.48246    1.16365 -0.57009   -0.31685 -0.46725 -1.09207   \n",
       "7   8  0.49788 -0.48246   -1.73790  0.96082   -0.31685 -1.32828  1.93886   \n",
       "8   9  0.49788  0.48246   -0.05921  0.24923   -0.31685  0.62967  2.57309   \n",
       "9  10  1.82213 -0.48246    1.16365  0.96082   -0.31685 -0.24649  0.00332   \n",
       "\n",
       "    Oscore   Ascore  ...  Ecstasy  Heroin  Ketamine Legalh  LSD Meth  \\\n",
       "0 -0.58331 -0.91699  ...      CL0     CL0       CL0    CL0  CL0  CL0   \n",
       "1  1.43533  0.76096  ...      CL4     CL0       CL2    CL0  CL2  CL3   \n",
       "2 -0.84732 -1.62090  ...      CL0     CL0       CL0    CL0  CL0  CL0   \n",
       "3 -0.01928  0.59042  ...      CL0     CL0       CL2    CL0  CL0  CL0   \n",
       "4 -0.45174 -0.30172  ...      CL1     CL0       CL0    CL1  CL0  CL0   \n",
       "5 -1.55521  2.03972  ...      CL0     CL0       CL0    CL0  CL0  CL0   \n",
       "6 -0.45174 -0.30172  ...      CL0     CL0       CL0    CL0  CL0  CL0   \n",
       "7 -0.84732 -0.30172  ...      CL0     CL0       CL0    CL0  CL0  CL0   \n",
       "8 -0.97631  0.76096  ...      CL0     CL0       CL0    CL0  CL0  CL0   \n",
       "9 -1.42424  0.59042  ...      CL0     CL0       CL0    CL0  CL0  CL0   \n",
       "\n",
       "  Mushrooms Nicotine Semer  VSA  \n",
       "0       CL0      CL2   CL0  CL0  \n",
       "1       CL0      CL4   CL0  CL0  \n",
       "2       CL1      CL0   CL0  CL0  \n",
       "3       CL0      CL2   CL0  CL0  \n",
       "4       CL2      CL2   CL0  CL0  \n",
       "5       CL0      CL6   CL0  CL0  \n",
       "6       CL0      CL6   CL0  CL0  \n",
       "7       CL0      CL0   CL0  CL0  \n",
       "8       CL0      CL6   CL0  CL0  \n",
       "9       CL0      CL6   CL0  CL0  \n",
       "\n",
       "[10 rows x 32 columns]"
      ]
     },
     "execution_count": 17,
     "metadata": {},
     "output_type": "execute_result"
    }
   ],
   "source": [
    "import pandas as pa\n",
    "import numpy as np\n",
    "import numpy.random as rn\n",
    "import seaborn as sn\n",
    "import matplotlib.pyplot as plt\n",
    "import matplotlib.colors as pltco\n",
    "\n",
    "druguser = pa.read_csv(\"drug_consumption.csv\", names = ['ID',\n",
    "'Age',\n",
    "'Gender',\n",
    "'Education',\n",
    "'Country',\n",
    "'Ethnicity',\n",
    "'Nscore',\n",
    "'Escore',\n",
    "'Oscore',\n",
    "'Ascore',\n",
    "'Cscore',\n",
    "'Impulsive',\n",
    "'SS',\n",
    "'Alcohol',\n",
    "'Amphet',\n",
    "'Amyl',\n",
    "'Benzos',\n",
    "'Caff',\n",
    "'Cannabis',\n",
    "'Choc',\n",
    "'Coke',\n",
    "'Crack',\n",
    "'Ecstasy',\n",
    "'Heroin',\n",
    "'Ketamine',\n",
    "'Legalh',\n",
    "'LSD',\n",
    "'Meth',\n",
    "'Mushrooms',\n",
    "'Nicotine',\n",
    "'Semer',\n",
    "'VSA'])\n",
    "\n",
    "druguser.head(10)"
   ]
  },
  {
   "cell_type": "markdown",
   "metadata": {},
   "source": [
    "## Data Manipluation: \n"
   ]
  },
  {
   "cell_type": "code",
   "execution_count": 18,
   "metadata": {},
   "outputs": [],
   "source": [
    "names = {'CL0':0,'CL1':0,'CL2':0,'CL3':0,'CL4':1,'CL5':1,'CL6':1,0:0, 1:1} #only counting people who used in last month as users.\n",
    "druguser.Cannabis = druguser.Cannabis.map(names)\n",
    "druguser.Semer = druguser.Semer.map(names)\n",
    "druguser.Nicotine = druguser.Nicotine.map(names)\n",
    "druguser.LSD = druguser.LSD.map(names)\n",
    "druguser.Mushrooms = druguser.Mushrooms.map(names)\n",
    "druguser.Ecstasy = druguser.Ecstasy.map(names)\n",
    "druguser.Coke = druguser.Coke.map(names)\n",
    "druguser.Alcohol = druguser.Alcohol.map(names)"
   ]
  },
  {
   "cell_type": "code",
   "execution_count": null,
   "metadata": {},
   "outputs": [],
   "source": []
  },
  {
   "cell_type": "code",
   "execution_count": 19,
   "metadata": {},
   "outputs": [],
   "source": [
    "def plot_cat_model(clf, X_train, y_train, X_test, y_test):\n",
    "\n",
    "    h = 0.01 # Mesh size  \n",
    "    # Plot the decision boundary. For that, we will assign a color to each\n",
    "    # point in the mesh [x_min, m_max]x[y_min, y_max].\n",
    "    x_min, x_max = X_train[:, 0].min() - 0.25, X_train[:, 0].max() + 0.25\n",
    "    y_min, y_max = X_train[:, 1].min() - 0.25, 3\n",
    "    xx, yy = np.meshgrid(np.arange(x_min, x_max, h),\n",
    "        np.arange(y_min, y_max, h))\n",
    "    Z = clf.predict(np.c_[xx.ravel(), yy.ravel()])\n",
    "\n",
    "    # Put the result into a color plot\n",
    "    Z = Z.reshape(xx.shape)\n",
    "\n",
    "    plt.figure(figsize=(8, 6))\n",
    "    cmap_light = pltco.ListedColormap(['#FFAAAA', '#AAFFAA'])\n",
    "    cmap_bold = pltco.ListedColormap(['#FF0000', '#00FF00'])\n",
    "    plt.pcolormesh(xx, yy, Z, cmap=cmap_light);\n",
    "\n",
    "    plt.scatter(X_train[:, 0], X_train[:, 1], c=y_train, cmap=cmap_bold,marker='o')\n",
    "    plt.scatter(X_test[:, 0], X_test[:, 1], c=y_test, cmap=cmap_bold, marker='+');\n",
    "    \n",
    "    print('Training Error: {}'.format(clf.score(X_train, y_train)))\n",
    "    print('Testing Error: {}'.format(clf.score(X_test, y_test)))"
   ]
  },
  {
   "cell_type": "code",
   "execution_count": 34,
   "metadata": {},
   "outputs": [],
   "source": [
    "def Bootstrap(clf2):\n",
    "    num = 50 \n",
    "    Xboot = [0]*num\n",
    "    yboot = [0]*num\n",
    "\n",
    "    n = X.shape[0]\n",
    "    for s in range(num):\n",
    "        sample = np.random.randint(0, n, n) \n",
    "        Xboot[s] = X[sample, :]\n",
    "        yboot[s] = y[sample]\n",
    "\n",
    "    test = int(0.20*n)\n",
    "\n",
    "    labels = ['train','test']\n",
    "\n",
    "    Error = pa.DataFrame(  np.array([0]*num*2).reshape(num, 2), columns = labels)\n",
    "\n",
    "    for s in range(num):\n",
    "        X_test = Xboot[s][:test]\n",
    "        y_test = yboot[s][:test]\n",
    "        X_train = Xboot[s][test:]\n",
    "        y_train = yboot[s][test:]\n",
    "    \n",
    "        clf2.fit(X_train, y_train)\n",
    "        Error.iloc[s, 0] = clf2.score(X_train, y_train) \n",
    "        Error.iloc[s, 1] = clf2.score(X_test, y_test)\n",
    "      \n",
    "    Error_mean = [0]*2\n",
    "    Error_std = [0]*2\n",
    "    for c in range(2):\n",
    "        Error_mean[c] = np.mean(Error.iloc[:num, c])\n",
    "        Error_std[c] = np.std(Error.iloc[:num, c])\n",
    "    \n",
    "    Error = Error.append( pa.Series(Error_mean, index=Error.columns), ignore_index=True)\n",
    "    Error = Error.append( pa.Series(Error_std, index=Error.columns), ignore_index=True)\n",
    "    Error.index = list(range(num)) + ['Mean', 'Standard Deviation']\n",
    "    print(Error.tail())\n",
    "   "
   ]
  },
  {
   "cell_type": "markdown",
   "metadata": {},
   "source": [
    "## Logistic Regression:\n"
   ]
  },
  {
   "cell_type": "code",
   "execution_count": 35,
   "metadata": {},
   "outputs": [],
   "source": [
    "X = np.array(druguser[['Age','Education']])\n",
    "y = np.array(druguser[['Cannabis']]).reshape(-1)\n",
    "\n",
    "n = X.shape[0]\n",
    "test = int(0.20*n)            # We will use a test set made up of 20% of the data from our sample\n",
    "perm = rn.permutation(n)   \n",
    "X = X[perm]\n",
    "y = y[perm]\n",
    "X_test = X[:test]       # Then create the test\n",
    "y_test = y[:test]\n",
    "X_train = X[test:]     # and train sets\n",
    "y_train = y[test:]"
   ]
  },
  {
   "cell_type": "code",
   "execution_count": 36,
   "metadata": {},
   "outputs": [],
   "source": [
    "from sklearn.linear_model import LogisticRegression\n",
    "lgreg = LogisticRegression(solver='lbfgs')\n",
    "lgreg.fit(X_train[:,1].reshape(-1,1), y_train);"
   ]
  },
  {
   "cell_type": "code",
   "execution_count": 37,
   "metadata": {},
   "outputs": [
    {
     "data": {
      "text/plain": [
       "(-0.35067839600983647, -0.5717032039451115)"
      ]
     },
     "execution_count": 37,
     "metadata": {},
     "output_type": "execute_result"
    }
   ],
   "source": [
    "b, m = *lgreg.intercept_, *lgreg.coef_[0]\n",
    "b, m"
   ]
  },
  {
   "cell_type": "code",
   "execution_count": 38,
   "metadata": {},
   "outputs": [
    {
     "name": "stdout",
     "output_type": "stream",
     "text": [
      "Logistic Regression Decsion Intercept -0.35067839600983647\n",
      "Logistic Regression Coefficent -0.5717032039451115\n"
     ]
    },
    {
     "data": {
      "image/png": "[encoded data removed]",
      "text/plain": [
       "<Figure size 576x432 with 1 Axes>"
      ]
     },
     "metadata": {
      "needs_background": "light"
     },
     "output_type": "display_data"
    }
   ],
   "source": [
    "plt.figure(figsize = (8, 6))\n",
    "plt.plot(X_train[:,1], y_train, 'b.')\n",
    "xx = np.linspace(-3, 3, 100)\n",
    "yy = np.exp(m*xx+b)/(1 + np.exp(m*xx+b))\n",
    "plt.plot(xx, yy, 'g-');\n",
    "plt.title (\"Logistic Regression\")\n",
    "print(\"Logistic Regression Decsion Intercept\",b)\n",
    "print(\"Logistic Regression Coefficent\",m)"
   ]
  },
  {
   "cell_type": "markdown",
   "metadata": {},
   "source": [
    "markdown explaining logistric regression for this "
   ]
  },
  {
   "cell_type": "code",
   "execution_count": 39,
   "metadata": {},
   "outputs": [],
   "source": [
    "keep = ['Age', 'Country', 'Education', 'Gender', 'Ascore', \n",
    "         'Cscore', 'Escore', 'Nscore', 'Oscore', 'Ethnicity','Impulsive','SS']\n",
    "X = np.array(druguser[ keep])\n",
    "y = np.array(druguser['Cannabis'])\n",
    "v = [0]*X.shape[1]\n",
    "for k in range(X.shape[1]):\n",
    "    M = X[:, k].max()\n",
    "    m = X[:, k].min()\n",
    "    v[k] = (X[:, k] - m)/(M - m)\n",
    "Xn = np.c_[v].transpose()\n"
   ]
  },
  {
   "cell_type": "code",
   "execution_count": 40,
   "metadata": {},
   "outputs": [
    {
     "name": "stdout",
     "output_type": "stream",
     "text": [
      "Logistic Regression Decsion Intercept -0.35067839600983647\n",
      "Logistic Regression Coefficent -0.5717032039451115\n"
     ]
    }
   ],
   "source": [
    "lgreg.fit(X_train[:,1].reshape(-1,1), y_train);\n",
    "b, m = *lgreg.intercept_, *lgreg.coef_[0]\n",
    "print(\"Logistic Regression Decsion Intercept\",b)\n",
    "print(\"Logistic Regression Coefficent\",m)"
   ]
  },
  {
   "cell_type": "markdown",
   "metadata": {},
   "source": [
    "markdown for logistic showing keep variables-- cant graph. Trash"
   ]
  },
  {
   "cell_type": "markdown",
   "metadata": {},
   "source": [
    "## K-nearest neighbors"
   ]
  },
  {
   "cell_type": "code",
   "execution_count": 41,
   "metadata": {},
   "outputs": [],
   "source": [
    "from sklearn.neighbors import KNeighborsClassifier"
   ]
  },
  {
   "cell_type": "code",
   "execution_count": 42,
   "metadata": {},
   "outputs": [],
   "source": [
    "X = np.array(druguser[['Age','Education']])\n",
    "y = np.array(druguser[['Cannabis']]).reshape(-1)\n",
    "\n",
    "n = X.shape[0]\n",
    "test = int(0.20*n)            # We will use a test set made up of 20% of the data from our sample\n",
    "perm = rn.permutation(n)   \n",
    "X = X[perm]\n",
    "y = y[perm]\n",
    "X_test = X[:test]       # Then create the test\n",
    "y_test = y[:test]\n",
    "X_train = X[test:]     # and train sets\n",
    "y_train = y[test:]\n",
    "\n",
    "Knear = KNeighborsClassifier(n_neighbors=100) # Define the model\n",
    "Knear.fit(X_train, y_train); # Train the model\n"
   ]
  },
  {
   "cell_type": "code",
   "execution_count": 43,
   "metadata": {},
   "outputs": [
    {
     "name": "stdout",
     "output_type": "stream",
     "text": [
      "Training Error: 0.7327586206896551\n",
      "Testing Error: 0.7374005305039788\n"
     ]
    },
    {
     "data": {
      "text/plain": [
       "Text(0.5, 1.0, 'K-nearest neighbors')"
      ]
     },
     "execution_count": 43,
     "metadata": {},
     "output_type": "execute_result"
    },
    {
     "data": {
      "image/png": "[encoded data removed]",
      "text/plain": [
       "<Figure size 576x432 with 1 Axes>"
      ]
     },
     "metadata": {
      "needs_background": "light"
     },
     "output_type": "display_data"
    }
   ],
   "source": [
    "plot_cat_model(Knear, X_train, y_train, X_test, y_test)\n",
    "plt.title (\"K-nearest neighbors\")"
   ]
  },
  {
   "cell_type": "markdown",
   "metadata": {},
   "source": [
    "markdown for k nearest-- more flexible model. overfit the model. \n",
    "boot strap changing number of neighbors"
   ]
  },
  {
   "cell_type": "code",
   "execution_count": 44,
   "metadata": {},
   "outputs": [
    {
     "data": {
      "text/html": [
       "<div>\n",
       "<style scoped>\n",
       "    .dataframe tbody tr th:only-of-type {\n",
       "        vertical-align: middle;\n",
       "    }\n",
       "\n",
       "    .dataframe tbody tr th {\n",
       "        vertical-align: top;\n",
       "    }\n",
       "\n",
       "    .dataframe thead th {\n",
       "        text-align: right;\n",
       "    }\n",
       "</style>\n",
       "<table border=\"1\" class=\"dataframe\">\n",
       "  <thead>\n",
       "    <tr style=\"text-align: right;\">\n",
       "      <th></th>\n",
       "      <th>train_1</th>\n",
       "      <th>test_1</th>\n",
       "      <th>train_2</th>\n",
       "      <th>test_2</th>\n",
       "      <th>train_3</th>\n",
       "      <th>test_3</th>\n",
       "      <th>train_4</th>\n",
       "      <th>test_4</th>\n",
       "      <th>train_5</th>\n",
       "      <th>test_5</th>\n",
       "      <th>...</th>\n",
       "      <th>train_16</th>\n",
       "      <th>test_16</th>\n",
       "      <th>train_17</th>\n",
       "      <th>test_17</th>\n",
       "      <th>train_18</th>\n",
       "      <th>test_18</th>\n",
       "      <th>train_19</th>\n",
       "      <th>test_19</th>\n",
       "      <th>train_20</th>\n",
       "      <th>test_20</th>\n",
       "    </tr>\n",
       "  </thead>\n",
       "  <tbody>\n",
       "    <tr>\n",
       "      <th>7</th>\n",
       "      <td>1.0</td>\n",
       "      <td>0.824934</td>\n",
       "      <td>0.933024</td>\n",
       "      <td>0.758621</td>\n",
       "      <td>0.917109</td>\n",
       "      <td>0.766578</td>\n",
       "      <td>0.870690</td>\n",
       "      <td>0.750663</td>\n",
       "      <td>0.864721</td>\n",
       "      <td>0.774536</td>\n",
       "      <td>...</td>\n",
       "      <td>0.827586</td>\n",
       "      <td>0.782493</td>\n",
       "      <td>0.819629</td>\n",
       "      <td>0.777188</td>\n",
       "      <td>0.818966</td>\n",
       "      <td>0.771883</td>\n",
       "      <td>0.820292</td>\n",
       "      <td>0.769231</td>\n",
       "      <td>0.816976</td>\n",
       "      <td>0.782493</td>\n",
       "    </tr>\n",
       "    <tr>\n",
       "      <th>8</th>\n",
       "      <td>1.0</td>\n",
       "      <td>0.856764</td>\n",
       "      <td>0.938329</td>\n",
       "      <td>0.809019</td>\n",
       "      <td>0.917772</td>\n",
       "      <td>0.819629</td>\n",
       "      <td>0.883952</td>\n",
       "      <td>0.811671</td>\n",
       "      <td>0.885942</td>\n",
       "      <td>0.803714</td>\n",
       "      <td>...</td>\n",
       "      <td>0.837533</td>\n",
       "      <td>0.806366</td>\n",
       "      <td>0.843501</td>\n",
       "      <td>0.811671</td>\n",
       "      <td>0.827586</td>\n",
       "      <td>0.809019</td>\n",
       "      <td>0.834218</td>\n",
       "      <td>0.811671</td>\n",
       "      <td>0.820955</td>\n",
       "      <td>0.801061</td>\n",
       "    </tr>\n",
       "    <tr>\n",
       "      <th>9</th>\n",
       "      <td>1.0</td>\n",
       "      <td>0.867374</td>\n",
       "      <td>0.930371</td>\n",
       "      <td>0.777188</td>\n",
       "      <td>0.909151</td>\n",
       "      <td>0.777188</td>\n",
       "      <td>0.874005</td>\n",
       "      <td>0.761273</td>\n",
       "      <td>0.875995</td>\n",
       "      <td>0.803714</td>\n",
       "      <td>...</td>\n",
       "      <td>0.822944</td>\n",
       "      <td>0.798408</td>\n",
       "      <td>0.813660</td>\n",
       "      <td>0.795756</td>\n",
       "      <td>0.813660</td>\n",
       "      <td>0.801061</td>\n",
       "      <td>0.816313</td>\n",
       "      <td>0.798408</td>\n",
       "      <td>0.807029</td>\n",
       "      <td>0.803714</td>\n",
       "    </tr>\n",
       "    <tr>\n",
       "      <th>Mean</th>\n",
       "      <td>1.0</td>\n",
       "      <td>0.866578</td>\n",
       "      <td>0.933886</td>\n",
       "      <td>0.807162</td>\n",
       "      <td>0.913462</td>\n",
       "      <td>0.808753</td>\n",
       "      <td>0.875729</td>\n",
       "      <td>0.792838</td>\n",
       "      <td>0.872480</td>\n",
       "      <td>0.802918</td>\n",
       "      <td>...</td>\n",
       "      <td>0.823607</td>\n",
       "      <td>0.792573</td>\n",
       "      <td>0.822480</td>\n",
       "      <td>0.797082</td>\n",
       "      <td>0.819231</td>\n",
       "      <td>0.797347</td>\n",
       "      <td>0.821485</td>\n",
       "      <td>0.797347</td>\n",
       "      <td>0.818103</td>\n",
       "      <td>0.796817</td>\n",
       "    </tr>\n",
       "    <tr>\n",
       "      <th>Standard Deviation</th>\n",
       "      <td>0.0</td>\n",
       "      <td>0.024341</td>\n",
       "      <td>0.004518</td>\n",
       "      <td>0.030637</td>\n",
       "      <td>0.005232</td>\n",
       "      <td>0.028898</td>\n",
       "      <td>0.005714</td>\n",
       "      <td>0.029164</td>\n",
       "      <td>0.006999</td>\n",
       "      <td>0.027130</td>\n",
       "      <td>...</td>\n",
       "      <td>0.012028</td>\n",
       "      <td>0.020608</td>\n",
       "      <td>0.014238</td>\n",
       "      <td>0.019210</td>\n",
       "      <td>0.012656</td>\n",
       "      <td>0.020926</td>\n",
       "      <td>0.012837</td>\n",
       "      <td>0.018385</td>\n",
       "      <td>0.010265</td>\n",
       "      <td>0.019892</td>\n",
       "    </tr>\n",
       "  </tbody>\n",
       "</table>\n",
       "<p>5 rows × 40 columns</p>\n",
       "</div>"
      ],
      "text/plain": [
       "                    train_1    test_1   train_2    test_2   train_3    test_3  \\\n",
       "7                       1.0  0.824934  0.933024  0.758621  0.917109  0.766578   \n",
       "8                       1.0  0.856764  0.938329  0.809019  0.917772  0.819629   \n",
       "9                       1.0  0.867374  0.930371  0.777188  0.909151  0.777188   \n",
       "Mean                    1.0  0.866578  0.933886  0.807162  0.913462  0.808753   \n",
       "Standard Deviation      0.0  0.024341  0.004518  0.030637  0.005232  0.028898   \n",
       "\n",
       "                     train_4    test_4   train_5    test_5  ...  train_16  \\\n",
       "7                   0.870690  0.750663  0.864721  0.774536  ...  0.827586   \n",
       "8                   0.883952  0.811671  0.885942  0.803714  ...  0.837533   \n",
       "9                   0.874005  0.761273  0.875995  0.803714  ...  0.822944   \n",
       "Mean                0.875729  0.792838  0.872480  0.802918  ...  0.823607   \n",
       "Standard Deviation  0.005714  0.029164  0.006999  0.027130  ...  0.012028   \n",
       "\n",
       "                     test_16  train_17   test_17  train_18   test_18  \\\n",
       "7                   0.782493  0.819629  0.777188  0.818966  0.771883   \n",
       "8                   0.806366  0.843501  0.811671  0.827586  0.809019   \n",
       "9                   0.798408  0.813660  0.795756  0.813660  0.801061   \n",
       "Mean                0.792573  0.822480  0.797082  0.819231  0.797347   \n",
       "Standard Deviation  0.020608  0.014238  0.019210  0.012656  0.020926   \n",
       "\n",
       "                    train_19   test_19  train_20   test_20  \n",
       "7                   0.820292  0.769231  0.816976  0.782493  \n",
       "8                   0.834218  0.811671  0.820955  0.801061  \n",
       "9                   0.816313  0.798408  0.807029  0.803714  \n",
       "Mean                0.821485  0.797347  0.818103  0.796817  \n",
       "Standard Deviation  0.012837  0.018385  0.010265  0.019892  \n",
       "\n",
       "[5 rows x 40 columns]"
      ]
     },
     "execution_count": 44,
     "metadata": {},
     "output_type": "execute_result"
    }
   ],
   "source": [
    "X = np.array(druguser[ keep])\n",
    "y = np.array(druguser[['Cannabis']]).reshape(-1)\n",
    "\n",
    "num = 10 \n",
    "Xboot = [0]*num\n",
    "yboot = [0]*num\n",
    "\n",
    "n = X.shape[0]\n",
    "for s in range(num):\n",
    "    sample = np.random.randint(0, n, n) \n",
    "    Xboot[s] = X[sample, :]\n",
    "    yboot[s] = y[sample]\n",
    "\n",
    "test = int(0.20*n)\n",
    "maxk = 20\n",
    "\n",
    "labels = [ ['train_{}'.format(x), 'test_{}'.format(x)] for x in range(1, maxk+1)]\n",
    "labels = [x for sublist in labels for x in sublist]\n",
    "\n",
    "Error = pa.DataFrame(  np.array([0]*num*2*maxk).reshape(num, 2*maxk), columns = labels)\n",
    "\n",
    "for s in range(num):\n",
    "    X_test = Xboot[s][:test]\n",
    "    y_test = yboot[s][:test]\n",
    "    X_train = Xboot[s][test:]\n",
    "    y_train = yboot[s][test:]\n",
    "    \n",
    "    for k in range(maxk):\n",
    "        clf = KNeighborsClassifier(n_neighbors=k+1) \n",
    "        clf.fit(X_train, y_train) \n",
    "        Error.iloc[s, 2*k] = clf.score(X_train, y_train) \n",
    "        Error.iloc[s, 2*k+1] = clf.score(X_test, y_test)\n",
    "      \n",
    "Error_mean = [0]*2*maxk\n",
    "Error_std = [0]*2*maxk\n",
    "for c in range(2*maxk):\n",
    "    Error_mean[c] = np.mean(Error.iloc[:num, c])\n",
    "    Error_std[c] = np.std(Error.iloc[:num, c])\n",
    "    \n",
    "Error = Error.append( pa.Series(Error_mean, index=Error.columns), ignore_index=True)\n",
    "Error = Error.append( pa.Series(Error_std, index=Error.columns), ignore_index=True)\n",
    "Error.index = list(range(num)) + ['Mean', 'Standard Deviation']\n",
    "Error.tail()"
   ]
  },
  {
   "cell_type": "code",
   "execution_count": 45,
   "metadata": {},
   "outputs": [
    {
     "data": {
      "text/plain": [
       "Text(0.5, 1.0, 'Difference between training and testing errors')"
      ]
     },
     "execution_count": 45,
     "metadata": {},
     "output_type": "execute_result"
    },
    {
     "data": {
      "image/png": "[encoded data removed]",
      "text/plain": [
       "<Figure size 432x288 with 1 Axes>"
      ]
     },
     "metadata": {
      "needs_background": "light"
     },
     "output_type": "display_data"
    }
   ],
   "source": [
    "testing_error = np.array(Error_mean[1::2])\n",
    "training_error = np.array(Error_mean[0::2])\n",
    "s = abs(testing_error - training_error)\n",
    "kk = range(1, maxk+1)\n",
    "plt.plot(kk, s, 'b-');\n",
    "plt.title (\"Difference between training and testing errors\")"
   ]
  },
  {
   "cell_type": "code",
   "execution_count": 46,
   "metadata": {},
   "outputs": [
    {
     "data": {
      "text/plain": [
       "Text(0.5, 1.0, 'Testing error vs k value')"
      ]
     },
     "execution_count": 46,
     "metadata": {},
     "output_type": "execute_result"
    },
    {
     "data": {
      "image/png": "[encoded data removed]",
      "text/plain": [
       "<Figure size 432x288 with 1 Axes>"
      ]
     },
     "metadata": {
      "needs_background": "light"
     },
     "output_type": "display_data"
    }
   ],
   "source": [
    "testing_error = Error_mean[1::2]\n",
    "kk = range(1, maxk+1)\n",
    "plt.plot(kk, testing_error, 'b-');\n",
    "plt.title (\"Testing error vs k value\")"
   ]
  },
  {
   "cell_type": "code",
   "execution_count": 47,
   "metadata": {},
   "outputs": [
    {
     "name": "stdout",
     "output_type": "stream",
     "text": [
      "                       train      test\n",
      "47                  0.827586  0.803714\n",
      "48                  0.814987  0.816976\n",
      "49                  0.826260  0.803714\n",
      "Mean                0.817719  0.803183\n",
      "Standard Deviation  0.009880  0.019398\n"
     ]
    }
   ],
   "source": [
    "clf = KNeighborsClassifier(19)\n",
    "Bootstrap(clf)"
   ]
  },
  {
   "cell_type": "markdown",
   "metadata": {},
   "source": [
    "markdown explaining bootstrap\n",
    "PCA not includded- sucked"
   ]
  },
  {
   "cell_type": "markdown",
   "metadata": {},
   "source": [
    "# Quadratic Discriminant Analysis"
   ]
  },
  {
   "cell_type": "code",
   "execution_count": 49,
   "metadata": {},
   "outputs": [],
   "source": [
    "from sklearn.discriminant_analysis import QuadraticDiscriminantAnalysis\n",
    "from sklearn.discriminant_analysis import QuadraticDiscriminantAnalysis\n",
    "\n",
    "X = np.array(druguser[['Age','Education']])\n",
    "y = np.array(druguser[['Cannabis']]).reshape(-1)\n",
    "\n",
    "n = X.shape[0]\n",
    "test = int(0.20*n)            # We will use a test set made up of 20% of the data from our sample\n",
    "perm = rn.permutation(n)   \n",
    "X = X[perm]\n",
    "y = y[perm]\n",
    "X_test = X[:test]       # Then create the test\n",
    "y_test = y[:test]\n",
    "X_train = X[test:]     # and train sets\n",
    "y_train = y[test:]"
   ]
  },
  {
   "cell_type": "code",
   "execution_count": 50,
   "metadata": {},
   "outputs": [
    {
     "name": "stdout",
     "output_type": "stream",
     "text": [
      "Training Error: 0.7201591511936339\n",
      "Testing Error: 0.8010610079575596\n"
     ]
    },
    {
     "data": {
      "image/png": "[encoded data removed]",
      "text/plain": [
       "<Figure size 576x432 with 1 Axes>"
      ]
     },
     "metadata": {
      "needs_background": "light"
     },
     "output_type": "display_data"
    }
   ],
   "source": [
    "QDA = QuadraticDiscriminantAnalysis()\n",
    "QDA.fit(X_train, y_train)\n",
    "plot_cat_model(QDA, X_train, y_train, X_test, y_test)"
   ]
  },
  {
   "cell_type": "code",
   "execution_count": 51,
   "metadata": {},
   "outputs": [
    {
     "name": "stdout",
     "output_type": "stream",
     "text": [
      "                       train      test\n",
      "47                  0.804377  0.790451\n",
      "48                  0.791777  0.793103\n",
      "49                  0.818966  0.811671\n",
      "Mean                0.808727  0.790875\n",
      "Standard Deviation  0.012692  0.018040\n"
     ]
    }
   ],
   "source": [
    "X = np.array(druguser[ keep])\n",
    "y = np.array(druguser[['Cannabis']]).reshape(-1)\n",
    "\n",
    "Bootstrap(QDA)"
   ]
  },
  {
   "cell_type": "code",
   "execution_count": null,
   "metadata": {},
   "outputs": [],
   "source": []
  }
 ],
 "metadata": {
  "kernelspec": {
   "display_name": "Python 3",
   "language": "python",
   "name": "python3"
  },
  "language_info": {
   "codemirror_mode": {
    "name": "ipython",
    "version": 3
   },
   "file_extension": ".py",
   "mimetype": "text/x-python",
   "name": "python",
   "nbconvert_exporter": "python",
   "pygments_lexer": "ipython3",
   "version": "3.7.3"
  }
 },
 "nbformat": 4,
 "nbformat_minor": 4
}
