{
 "cells": [
  {
   "cell_type": "markdown",
   "metadata": {},
   "source": [
    "# GROUP PROJECT PROPOSAL\n",
    "## Ashley Snell, Sydney Small, Jeremy Taylor\n"
   ]
  },
  {
   "cell_type": "markdown",
   "metadata": {},
   "source": [
    "Drug Consumption and Personality\n",
    "\n",
    "For our final project, we chose a dataset from the UCI data repository called “Drug Consumption (Quantified) Data Set”. This data set analyzes quantified data about a person’s gender, age, and personality attributes and contrasts it with their drug use, both type and frequency. Specifically, the personal features are: ID number, age, gender, education level, country, ethnicity, nscore (neuroticism), escore (extraversion), oscore (openness to experience), ascore (agreeableness), cscore (conscientiousness), impulsivity, and sensation. The drugs studied are: alcohol, amphetamines, amyl nitrite, benzodiazepine, caffeine, cannabis, chocolate, cocaine, crack, ecstasy, heroin, ketamine, legal highs, LSD, methadone, magic mushrooms, nicotine, seremon (a fictitious drug), and volatile substance abuse. \n"
   ]
  },
  {
   "cell_type": "markdown",
   "metadata": {},
   "source": [
    "The nature of this dataset is categorical, due to the fact that we are classifying types of drug user-- so, while we are not exactly sure which question we want to investigate, we know it will be categorical. We’re considering comparing some of the personality scores (ascore, escore, etc) and age to the use of some of the more common, “party” drugs such as alcohol, cannabis, and nicotine. While doing some preliminary analysis, we noticed that since we only have ~2000 data points, not many participants could be classified as frequent users of some of the harder, more uncommon drugs. For example, only 4%, or about 38, of the participants are classified as frequent cocaine users. Thus, creating an algorithm for “harder” drugs would be difficult due to the lack of data. So, one example of a question we may consider is “what does a person’s agreeableness say about their use of alcohol?” We may also later consider questions about the correlation between the use of one drug to another. For instance, a potential question may be “does use of cannabis indicate a use of LSD?” \n"
   ]
  },
  {
   "cell_type": "markdown",
   "metadata": {},
   "source": [
    "In terms of the method we’re going to use to construct an algorithm, we don’t know yet. So far, we’ve tried logistic regression, which failed. The trend of the data points for all relevant data is not linear, hence, logistic regression is not a good fit for this data. We noticed that the data tend to take more of a parabolic shape, with the data points of “users” centered in the middle. So, as the semester progresses, we will apply different techniques to see which best fits our data.\n"
   ]
  },
  {
   "cell_type": "markdown",
   "metadata": {},
   "source": [
    "We took interest in this data set because of its relevance to society. Outwardly, it seems that there is a rise in the use of specific drugs, especially in the younger generations. We thought it would be interesting to see if there is actual data to back up this assumption and to see if maybe certain types of people are attracted to certain drugs. Or, if the use of one drug leads to the use of other types of drugs. Either way, there is a lot we could learn from this data set and we hope to explore various relations in a data throughout the semester.\n"
   ]
  },
  {
   "cell_type": "code",
   "execution_count": null,
   "metadata": {},
   "outputs": [],
   "source": []
  },
  {
   "cell_type": "code",
   "execution_count": null,
   "metadata": {},
   "outputs": [],
   "source": []
  }
 ],
 "metadata": {
  "kernelspec": {
   "display_name": "Python 3",
   "language": "python",
   "name": "python3"
  },
  "language_info": {
   "codemirror_mode": {
    "name": "ipython",
    "version": 3
   },
   "file_extension": ".py",
   "mimetype": "text/x-python",
   "name": "python",
   "nbconvert_exporter": "python",
   "pygments_lexer": "ipython3",
   "version": "3.7.3"
  }
 },
 "nbformat": 4,
 "nbformat_minor": 4
}
